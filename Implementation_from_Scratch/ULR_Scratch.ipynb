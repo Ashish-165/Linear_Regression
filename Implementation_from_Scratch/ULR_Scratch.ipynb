{
  "nbformat": 4,
  "nbformat_minor": 0,
  "metadata": {
    "colab": {
      "name": "ULR_Scratch.ipynb",
      "provenance": [],
      "collapsed_sections": [],
      "toc_visible": true
    },
    "kernelspec": {
      "name": "python3",
      "display_name": "Python 3"
    }
  },
  "cells": [
    {
      "cell_type": "markdown",
      "metadata": {
        "id": "Zcx4j_7riGF6"
      },
      "source": [
        "# Importing the libraries"
      ]
    },
    {
      "cell_type": "code",
      "metadata": {
        "id": "ysqnVq-MgRus"
      },
      "source": [
        "import numpy as np\n",
        "import matplotlib.pyplot as plt\n",
        "import pandas as pd"
      ],
      "execution_count": null,
      "outputs": []
    },
    {
      "cell_type": "markdown",
      "metadata": {
        "id": "DHGFsYkBiVGK"
      },
      "source": [
        "# Importing the data"
      ]
    },
    {
      "cell_type": "code",
      "metadata": {
        "id": "e-7iJwiwiUrM"
      },
      "source": [
        "dataset = pd.read_csv('Salary_Data.csv')"
      ],
      "execution_count": null,
      "outputs": []
    },
    {
      "cell_type": "code",
      "metadata": {
        "id": "3zauSPmci5ux"
      },
      "source": [
        "x = dataset.iloc[:, 0].values   # First Column has the independent variable\n",
        "y = dataset.iloc[:, 1].values    # Second Column has the dependent variable"
      ],
      "execution_count": null,
      "outputs": []
    },
    {
      "cell_type": "code",
      "metadata": {
        "id": "vHmlZ-kG2vTu"
      },
      "source": [
        "x_plot = x\n",
        "y_plot = y"
      ],
      "execution_count": null,
      "outputs": []
    },
    {
      "cell_type": "markdown",
      "metadata": {
        "id": "t7Y3eLHske0v"
      },
      "source": [
        "# Visualization"
      ]
    },
    {
      "cell_type": "code",
      "metadata": {
        "colab": {
          "base_uri": "https://localhost:8080/",
          "height": 295
        },
        "id": "cBItb6dCjyUN",
        "outputId": "c26fd95c-f243-4673-fdce-713ab0a89c39"
      },
      "source": [
        "plt.scatter(x, y, color='red', edgecolor='black')\n",
        "plt.title('Years Of Experience V/s Salary ')\n",
        "plt.xlabel('Years of Experience')\n",
        "plt.ylabel('Salary ')\n",
        "plt.show()"
      ],
      "execution_count": null,
      "outputs": [
        {
          "output_type": "display_data",
          "data": {
            "image/png": "[encoded data removed]",
            "text/plain": [
              "<Figure size 432x288 with 1 Axes>"
            ]
          },
          "metadata": {
            "tags": [],
            "needs_background": "light"
          }
        }
      ]
    },
    {
      "cell_type": "markdown",
      "metadata": {
        "id": "T-FabN2Flbih"
      },
      "source": [
        "# Preprocessing"
      ]
    },
    {
      "cell_type": "code",
      "metadata": {
        "id": "bWk96_48wRw6"
      },
      "source": [
        "# Featue scaling\n",
        "x = (x - np.mean(x))/np.std(x)\n",
        "y = (y - np.mean(y))/np.std(y)"
      ],
      "execution_count": null,
      "outputs": []
    },
    {
      "cell_type": "code",
      "metadata": {
        "id": "yE0_Est1lCqv"
      },
      "source": [
        "X = np.column_stack((np.ones((len(x), 1)), x))    # This is done so we can use vectorization\n",
        "y = y.reshape((len(y), 1))                        # making sure that the array is properly shaped"
      ],
      "execution_count": null,
      "outputs": []
    },
    {
      "cell_type": "markdown",
      "metadata": {
        "id": "TC8Tp3aOl3GI"
      },
      "source": [
        "# Initializing the weights"
      ]
    },
    {
      "cell_type": "code",
      "metadata": {
        "id": "54bgBOJOlp1u"
      },
      "source": [
        "Weights = np.random.randn(2, 1)         # This can be intialized as an array of 0's as well"
      ],
      "execution_count": null,
      "outputs": []
    },
    {
      "cell_type": "markdown",
      "metadata": {
        "id": "6kzfWmAPmOyx"
      },
      "source": [
        "# Cost Function"
      ]
    },
    {
      "cell_type": "code",
      "metadata": {
        "id": "7V68bTPAmNG9"
      },
      "source": [
        "def cost(X, y, Weights):\n",
        "  m = X.shape[0]\n",
        "\n",
        "  J = (1/(2*m))*(np.sum(np.square(np.dot(X, Weights) - y)))   # Mean Squared Error\n",
        "\n",
        "  return J"
      ],
      "execution_count": null,
      "outputs": []
    },
    {
      "cell_type": "markdown",
      "metadata": {
        "id": "foeRFfBjnQhB"
      },
      "source": [
        "# Gradient Function"
      ]
    },
    {
      "cell_type": "code",
      "metadata": {
        "id": "OxILvI7jnP0x"
      },
      "source": [
        "def gradient(X, y, Weights):\n",
        "  m = X.shape[0]\n",
        "\n",
        "  grad_0 = (1/m)*(np.sum(np.dot(X, Weights) - y))\n",
        "  grad_1 = (1/m)*(np.sum((np.dot(X, Weights) - y)*X[:, 1].reshape((m, 1))))\n",
        "\n",
        "  return grad_0, grad_1"
      ],
      "execution_count": null,
      "outputs": []
    },
    {
      "cell_type": "markdown",
      "metadata": {
        "id": "I2KodDW3o8ZX"
      },
      "source": [
        "# Model"
      ]
    },
    {
      "cell_type": "code",
      "metadata": {
        "id": "RRc0MQeFo36n"
      },
      "source": [
        "alpha = 0.01      # Learning rate parameter\n",
        "num_iter = 500    # No. of iterations\n",
        "J_hist = np.zeros((num_iter, 1))\n",
        "\n",
        "\n",
        "# We will be performing batch gradient descent\n",
        "for i in range(num_iter):\n",
        "  grad_0, grad_1 = gradient(X, y, Weights)\n",
        "  \n",
        "  Weights[0] = Weights[0] - alpha*grad_0\n",
        "  Weights[1] = Weights[1] - alpha*grad_1\n",
        "\n",
        "  J_hist[i] = cost(X, y, Weights)\n"
      ],
      "execution_count": null,
      "outputs": []
    },
    {
      "cell_type": "markdown",
      "metadata": {
        "id": "FnRynut7rRfy"
      },
      "source": [
        "# Plot for Cost function Vs No. of Iterations"
      ]
    },
    {
      "cell_type": "code",
      "metadata": {
        "colab": {
          "base_uri": "https://localhost:8080/",
          "height": 265
        },
        "id": "BFFAfPmhrC_B",
        "outputId": "fc3339a9-efd7-4962-8d08-48cda6ee63fd"
      },
      "source": [
        "# This is done to make sure our cost is going down with every iteration,\n",
        "# this is tells us that our Batch Gradient Descent algorithm is working properly\n",
        "# and the Weights and converging\n",
        "\n",
        "iterations = [j for j in range(num_iter)]\n",
        "plt.plot(iterations, J_hist)\n",
        "plt.show()"
      ],
      "execution_count": null,
      "outputs": [
        {
          "output_type": "display_data",
          "data": {
            "image/png": "[encoded data removed]",
            "text/plain": [
              "<Figure size 432x288 with 1 Axes>"
            ]
          },
          "metadata": {
            "tags": [],
            "needs_background": "light"
          }
        }
      ]
    },
    {
      "cell_type": "markdown",
      "metadata": {
        "id": "1H3bNbyhsFuS"
      },
      "source": [
        "# Plotting the prediction "
      ]
    },
    {
      "cell_type": "code",
      "metadata": {
        "colab": {
          "base_uri": "https://localhost:8080/",
          "height": 295
        },
        "id": "pDLXP5EerobL",
        "outputId": "2386ed0a-aad4-4482-e5eb-3e16fd6d265f"
      },
      "source": [
        "y_pred = np.dot(X, Weights)\n",
        "\n",
        "plt.scatter(x, y, color='red', edgecolor='black')\n",
        "plt.plot(x, y_pred, color='blue')\n",
        "plt.title('Years Of Experience V/s Salary ')\n",
        "plt.xlabel('Years of Experience')\n",
        "plt.ylabel('Salary ')\n",
        "plt.show()"
      ],
      "execution_count": null,
      "outputs": [
        {
          "output_type": "display_data",
          "data": {
            "image/png": "[encoded data removed]",
            "text/plain": [
              "<Figure size 432x288 with 1 Axes>"
            ]
          },
          "metadata": {
            "tags": [],
            "needs_background": "light"
          }
        }
      ]
    },
    {
      "cell_type": "code",
      "metadata": {
        "colab": {
          "base_uri": "https://localhost:8080/",
          "height": 295
        },
        "id": "RpllLH0ysgCk",
        "outputId": "95232e75-a9e9-4447-d577-c611d535f9db"
      },
      "source": [
        "# This is the same plot as above, the only difference is the values are rescaled\n",
        "# back to the original values before feature scaling, for better visualization\n",
        "\n",
        "y_pred_orig = y_pred * np.std(y_plot) + np.mean(y_plot)\n",
        "\n",
        "plt.scatter(x_plot, y_plot, color='red', edgecolor='black')\n",
        "plt.plot(x_plot, y_pred_orig, color='blue')\n",
        "plt.title('Years Of Experience V/s Salary ')\n",
        "plt.xlabel('Years of Experience')\n",
        "plt.ylabel('Salary ')\n",
        "plt.show()"
      ],
      "execution_count": null,
      "outputs": [
        {
          "output_type": "display_data",
          "data": {
            "image/png": "[encoded data removed]",
            "text/plain": [
              "<Figure size 432x288 with 1 Axes>"
            ]
          },
          "metadata": {
            "tags": [],
            "needs_background": "light"
          }
        }
      ]
    }
  ]
}